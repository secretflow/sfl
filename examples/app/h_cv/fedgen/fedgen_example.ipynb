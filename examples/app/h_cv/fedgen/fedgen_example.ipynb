{
 "cells": [
  {
   "cell_type": "markdown",
   "id": "7bc8dacdc0d6ebb4",
   "metadata": {},
   "source": [
    "# FenGen个性化联邦学习例子"
   ]
  },
  {
   "cell_type": "code",
   "execution_count": null,
   "id": "938d2c5d",
   "metadata": {
    "ExecuteTime": {
     "end_time": "2024-08-26T11:38:38.466144Z",
     "start_time": "2024-08-26T11:38:38.457278Z"
    }
   },
   "outputs": [],
   "source": [
    "%load_ext autoreload\n",
    "%autoreload 2"
   ]
  },
  {
   "cell_type": "markdown",
   "id": "a700aec9",
   "metadata": {},
   "source": [
    "## 在secretflow环境创造3个实体[Alice，Bob，Charlie]，其中 Alice, Bob和Charlie 是三个PYU，Alice和Bob角色是client，Charlie角色是server。"
   ]
  },
  {
   "cell_type": "code",
   "execution_count": null,
   "id": "1c6ab3f20b850118",
   "metadata": {},
   "outputs": [],
   "source": [
    "import secretflow as sf\n",
    "\n",
    "# Check the version of your SecretFlow\n",
    "print('The version of SecretFlow: {}'.format(sf.__version__))\n",
    "\n",
    "# In case you have a running secretflow runtime already.\n",
    "sf.shutdown()\n",
    "\n",
    "sf.init(['alice', 'bob', 'charlie'], address='local')\n",
    "alice, bob, charlie = sf.PYU('alice'), sf.PYU('bob'), sf.PYU('charlie')"
   ]
  },
  {
   "cell_type": "code",
   "execution_count": null,
   "id": "461ab9e4",
   "metadata": {},
   "outputs": [],
   "source": [
    "spu = sf.SPU(sf.utils.testing.cluster_def(['alice', 'bob']))"
   ]
  },
  {
   "cell_type": "markdown",
   "id": "40435977-c2c6-464c-bdcb-da10063fbed8",
   "metadata": {},
   "source": [
    "## 导入相关依赖"
   ]
  },
  {
   "cell_type": "code",
   "execution_count": null,
   "id": "403dddd7",
   "metadata": {},
   "outputs": [],
   "source": [
    "from sfl.ml.nn.core.torch import (\n",
    "    metric_wrapper,\n",
    "    optim_wrapper,\n",
    "    BaseModule,\n",
    "    TorchModel,\n",
    ")\n",
    "from sfl.ml.nn import FLModel\n",
    "from torchmetrics import Accuracy, Precision\n",
    "from sfl.security.aggregation import SecureAggregator\n",
    "from sfl.utils.simulation.datasets_fl import load_mnist\n",
    "from torch import nn, optim\n",
    "from torch.nn import functional as F\n",
    "import torch"
   ]
  },
  {
   "cell_type": "markdown",
   "id": "f7a71564",
   "metadata": {},
   "source": [
    "## 数据划分，这里模拟数据不平衡2:8分"
   ]
  },
  {
   "cell_type": "code",
   "execution_count": null,
   "id": "adb0271c",
   "metadata": {},
   "outputs": [],
   "source": [
    "(train_data, train_label), (test_data, test_label) = load_mnist(\n",
    "    parts={alice: 0.2, bob: 0.8},\n",
    "    normalized_x=True,\n",
    "    categorical_y=True,\n",
    "    is_torch=True,\n",
    ")"
   ]
  },
  {
   "cell_type": "markdown",
   "id": "9b00201f",
   "metadata": {},
   "source": [
    "## 定义一个神经网络模型，输出是logit"
   ]
  },
  {
   "cell_type": "code",
   "execution_count": null,
   "id": "f7169dc6",
   "metadata": {},
   "outputs": [],
   "source": [
    "class ConvNet(BaseModule):\n",
    "    \"\"\"Small ConvNet for MNIST.\"\"\"\n",
    "\n",
    "    def __init__(self, kl_div_loss, num_classes):\n",
    "        super(ConvNet, self).__init__()\n",
    "        self.conv1 = nn.Conv2d(1, 3, kernel_size=3)\n",
    "        self.fc_in_dim = 192\n",
    "        self.fc = nn.Linear(self.fc_in_dim, 10)\n",
    "        self.kl_div_loss = kl_div_loss\n",
    "        self.num_classes = num_classes\n",
    "\n",
    "    def forward(self, x, start_layer_idx=0):\n",
    "        if start_layer_idx == -1:\n",
    "            x = self.fc(x)\n",
    "            return x\n",
    "        x = F.relu(F.max_pool2d(self.conv1(x), 3))\n",
    "        x = x.view(-1, self.fc_in_dim)\n",
    "        x = self.fc(x)\n",
    "        return x"
   ]
  },
  {
   "cell_type": "markdown",
   "id": "ba14607e",
   "metadata": {},
   "source": [
    "定义神经网络模型的损失函数和优化器"
   ]
  },
  {
   "cell_type": "code",
   "execution_count": null,
   "id": "18884242",
   "metadata": {},
   "outputs": [],
   "source": [
    "loss_fn = nn.CrossEntropyLoss\n",
    "optim_fn = optim_wrapper(optim.Adam, lr=1e-2)"
   ]
  },
  {
   "cell_type": "markdown",
   "id": "0b21603b",
   "metadata": {},
   "source": [
    "## 准备FedGen相关工作，生成器模型等"
   ]
  },
  {
   "cell_type": "markdown",
   "id": "a0da3e36",
   "metadata": {},
   "source": [
    "DiversityLoss是一个自定义的损失函数类"
   ]
  },
  {
   "cell_type": "code",
   "execution_count": null,
   "id": "e6217205",
   "metadata": {},
   "outputs": [],
   "source": [
    "class DiversityLoss(nn.Module):\n",
    "    \"\"\"\n",
    "    Diversity loss for improving the performance.\n",
    "    \"\"\"\n",
    "\n",
    "    def __init__(self, metric):\n",
    "        \"\"\"\n",
    "        Class initializer.\n",
    "        \"\"\"\n",
    "        super().__init__()\n",
    "        self.metric = metric\n",
    "        self.cosine = nn.CosineSimilarity(dim=2)\n",
    "\n",
    "    def compute_distance(self, tensor1, tensor2, metric):\n",
    "        \"\"\"\n",
    "        Compute the distance between two tensors.\n",
    "        \"\"\"\n",
    "        if metric == 'l1':\n",
    "            return torch.abs(tensor1 - tensor2).mean(dim=(2,))\n",
    "        elif metric == 'l2':\n",
    "            return torch.pow(tensor1 - tensor2, 2).mean(dim=(2,))\n",
    "        elif metric == 'cosine':\n",
    "            return 1 - self.cosine(tensor1, tensor2)\n",
    "        else:\n",
    "            raise ValueError(metric)\n",
    "\n",
    "    def pairwise_distance(self, tensor, how):\n",
    "        \"\"\"\n",
    "        Compute the pairwise distances between a Tensor's rows.\n",
    "        \"\"\"\n",
    "        n_data = tensor.size(0)\n",
    "        tensor1 = tensor.expand((n_data, n_data, tensor.size(1)))\n",
    "        tensor2 = tensor.unsqueeze(dim=1)\n",
    "        return self.compute_distance(tensor1, tensor2, how)\n",
    "\n",
    "    def forward(self, noises, layer):\n",
    "        \"\"\"\n",
    "        Forward propagation.\n",
    "        \"\"\"\n",
    "        if len(layer.shape) > 2:\n",
    "            layer = layer.view((layer.size(0), -1))\n",
    "        layer_dist = self.pairwise_distance(layer, how=self.metric)\n",
    "        noise_dist = self.pairwise_distance(noises, how='l2')\n",
    "        return torch.exp(torch.mean(-noise_dist * layer_dist))"
   ]
  },
  {
   "cell_type": "markdown",
   "id": "36ed20aa",
   "metadata": {},
   "source": [
    "FedGen需要有generator模型,并一些训练参数相关设置，优化器等"
   ]
  },
  {
   "cell_type": "code",
   "execution_count": null,
   "id": "abeef2a2",
   "metadata": {},
   "outputs": [],
   "source": [
    "from sfl.ml.nn.fl.backend.torch.strategy.fed_gen import (\n",
    "    FedGenGeneratorModel,\n",
    "    FedGenActor,\n",
    ")\n",
    "\n",
    "kl_div_loss = nn.KLDivLoss(reduction=\"batchmean\")\n",
    "diversity_loss = DiversityLoss(metric='l1')\n",
    "cross_entropy_loss = nn.CrossEntropyLoss()\n",
    "num_classes = 10\n",
    "generator = FedGenGeneratorModel(\n",
    "    hidden_dimension=256,\n",
    "    latent_dimension=192,\n",
    "    noise_dim=64,\n",
    "    num_classes=num_classes,\n",
    "    loss_fn=loss_fn,\n",
    "    optim_fn=optim_fn,\n",
    "    diversity_loss=diversity_loss,\n",
    ")"
   ]
  },
  {
   "cell_type": "markdown",
   "id": "436038d0",
   "metadata": {},
   "source": [
    "## 进行联邦学习"
   ]
  },
  {
   "cell_type": "code",
   "execution_count": null,
   "id": "e1d2255b",
   "metadata": {},
   "outputs": [],
   "source": [
    "from sfl.security.aggregation.stateful_fedgen_aggregator import (\n",
    "    StatefulFedGenAggregator,\n",
    ")\n",
    "\n",
    "net = ConvNet(diversity_loss, 20)\n",
    "\n",
    "model_def = TorchModel(\n",
    "    model_fn=ConvNet,\n",
    "    loss_fn=loss_fn,\n",
    "    optim_fn=optim_fn,\n",
    "    metrics=[\n",
    "        metric_wrapper(Accuracy, task=\"multiclass\", num_classes=10, average='micro'),\n",
    "        metric_wrapper(Precision, task=\"multiclass\", num_classes=10, average='micro'),\n",
    "    ],\n",
    "    kl_div_loss=kl_div_loss,\n",
    "    num_classes=num_classes,\n",
    ")\n",
    "\n",
    "server_actor = FedGenActor(device=charlie, generator=generator)\n",
    "device_list = [alice, bob]\n",
    "aggregator = StatefulFedGenAggregator(charlie, [alice, bob], server_actor)\n",
    "# spcify params\n",
    "fl_model = FLModel(\n",
    "    server=charlie,\n",
    "    device_list=device_list,\n",
    "    model=model_def,\n",
    "    strategy=\"fed_gen\",  # fl strategy\n",
    "    backend=\"torch\",  # backend support ['tensorflow', 'torch']\n",
    "    aggregator=aggregator,\n",
    "    generator=generator,\n",
    ")\n",
    "history = fl_model.fit(\n",
    "    train_data,\n",
    "    train_label,\n",
    "    validation_data=(test_data, test_label),\n",
    "    epochs=20,\n",
    "    batch_size=32,\n",
    "    aggregate_freq=1,\n",
    ")"
   ]
  },
  {
   "cell_type": "markdown",
   "id": "285ef2c4",
   "metadata": {},
   "source": [
    "## 绘制结果"
   ]
  },
  {
   "cell_type": "code",
   "execution_count": null,
   "id": "f31086b7-2159-4e21-b8a3-75a3a79efae8",
   "metadata": {},
   "outputs": [],
   "source": [
    "from matplotlib import pyplot as plt\n",
    "\n",
    "# Draw accuracy values for training & validation\n",
    "plt.plot(history[\"global_history\"]['multiclassaccuracy'])\n",
    "plt.plot(history[\"global_history\"]['val_multiclassaccuracy'])\n",
    "plt.title('FLModel accuracy')\n",
    "plt.ylabel('Accuracy')\n",
    "plt.xlabel('Epoch')\n",
    "plt.legend(['Train', 'Valid'], loc='upper left')\n",
    "plt.show()"
   ]
  },
  {
   "cell_type": "code",
   "execution_count": null,
   "id": "4678cd74-f29f-4f68-b459-771433c373e6",
   "metadata": {},
   "outputs": [],
   "source": []
  }
 ],
 "metadata": {
  "kernelspec": {
   "display_name": "secretflow",
   "language": "python",
   "name": "python3"
  },
  "language_info": {
   "codemirror_mode": {
    "name": "ipython",
    "version": 3
   },
   "file_extension": ".py",
   "mimetype": "text/x-python",
   "name": "python",
   "nbconvert_exporter": "python",
   "pygments_lexer": "ipython3",
   "version": "3.10.14"
  }
 },
 "nbformat": 4,
 "nbformat_minor": 5
}
